{
 "cells": [
  {
   "cell_type": "code",
   "execution_count": 2,
   "id": "federal-samba",
   "metadata": {},
   "outputs": [],
   "source": [
    "import matplotlib.pyplot as plt\n",
    "import matplotlib.patches as mpatches\n",
    "from matplotlib.colors import colorConverter as cc\n",
    "# import csv\n",
    "import numpy as np\n",
    "# pylab.rcParams['figure.figsize'] = (13, 8)"
   ]
  },
  {
   "cell_type": "code",
   "execution_count": 75,
   "id": "stuffed-bible",
   "metadata": {},
   "outputs": [],
   "source": [
    "import pandas as pd\n",
    "\n",
    "exp_path = '/Users/xnimir/Desktop/'\n",
    "file_name = 'counter_prop_WignerS'\n",
    "d_params = pd.read_excel(exp_path + 'Cs_EA_new.xlsx'\n",
    "                   ,sheet_name = 'Counter Feb 11_new') # need to fill in the excel sheet\n",
    "\n",
    "df_s1 = pd.DataFrame(d_params,columns = ['Signal1'])\n",
    "df_s2 = pd.DataFrame(d_params,columns = ['Signal2'])\n",
    "df_s3 = pd.DataFrame(d_params,columns = ['Signal3'])\n",
    "\n",
    "df_s1 = df_s1.to_numpy()\n",
    "df_s2 = df_s2.to_numpy()\n",
    "df_s3 = df_s3.to_numpy()\n",
    "\n",
    "s1 = df_s1.flatten() # number of cycles for each data set\n",
    "s1 = np.array(s1)\n",
    "s2 = df_s2.flatten() # number of cycles for each data set\n",
    "s2 = np.array(s2)\n",
    "s3 = df_s3.flatten() # number of cycles for each data set\n",
    "s3 = np.array(s3)\n",
    "\n",
    "df_curr = pd.DataFrame(d_params,columns = ['Ion current1 (pA)'])\n",
    "df_curr = df_curr.to_numpy()\n",
    "i_s = df_curr.flatten() # number of cycles for each data set\n",
    "i_s = np.array(i_s)\n",
    "df_rpow = pd.DataFrame(d_params,columns = ['Laser power red (mW)'])\n",
    "df_rpow = df_rpow.to_numpy()\n",
    "p_r = df_rpow.flatten() # number of cycles for each data set\n",
    "p_r = np.array(p_r)\n",
    "df_gpow = pd.DataFrame(d_params,columns = ['Laser power green (mW)'])\n",
    "df_gpow = df_gpow.to_numpy()\n",
    "p_g = df_gpow.flatten() # number of cycles for each data set\n",
    "p_g = np.array(p_g)\n",
    "df_avg = pd.DataFrame(d_params,columns = ['AverageSignal'])\n",
    "df_avg = df_avg.to_numpy()\n",
    "avgs = df_avg.flatten() # number of cycles for each data set\n",
    "avgs_n = np.array(avgs)/(i_s*p_r*p_g)\n",
    "\n",
    "df_wl = pd.DataFrame(d_params,columns = [' WL red (nm)'])\n",
    "df_wl = df_wl.to_numpy()\n",
    "wls = df_wl.flatten() # number of cycles for each data set\n",
    "wls = np.array(wls)\n",
    "\n",
    "h=6.62607015e-34\n",
    "hc = 1239.84193 #eV/nm\n",
    "j_eV = 6.2415093e18\n",
    "c =299792458\n",
    "ens = hc/wls #x axis\n",
    "omegas = 2*np.pi*(c/wls)\n",
    "cross_section = avgs_n*omegas\n",
    "cross_section = cross_section/max(cross_section)\n",
    "\n",
    "avg_3 = []\n",
    "devs_3 = []\n",
    "for i in range(len(s1)):\n",
    "    l0 = np.array([s1[i],s2[i],s3[i]])\n",
    "    avg_3.append(np.sum(l0))\n",
    "    devs_3.append(np.sqrt(np.sum(l0)))\n",
    "\n",
    "avg_3 = np.array(avg_3)\n",
    "avg_3n = (avg_3)/(i_s*p_r)\n",
    "devs_3 = np.array(devs_3)\n",
    "devs_3n = devs_3/(i_s*p_r)\n",
    "\n",
    "x1 = ens[:]\n",
    "y1 = avg_3n[:]\n",
    "err_y = devs_3n[:]\n",
    "# print (type(avg_3))"
   ]
  },
  {
   "cell_type": "code",
   "execution_count": 80,
   "id": "decent-effort",
   "metadata": {},
   "outputs": [
    {
     "name": "stdout",
     "output_type": "stream",
     "text": [
      "1.9256321035173756 5.06525508519399e-07\n",
      "0.4716114 eV\n"
     ]
    },
    {
     "data": {
      "image/png": "[encoded data removed]",
      "text/plain": [
       "<Figure size 432x288 with 1 Axes>"
      ]
     },
     "metadata": {
      "needs_background": "light"
     },
     "output_type": "display_data"
    }
   ],
   "source": [
    "from scipy.optimize import curve_fit\n",
    "\n",
    "def Wigner(x,a,b,ea):\n",
    "    return a + b*np.sqrt(x-ea+np.abs(x-ea))\n",
    "\n",
    "a=0\n",
    "b=1\n",
    "ea=1.92564\n",
    "setColor1='black'\n",
    "setColor2=[1,0,0]\n",
    "pars = [a,b,ea]\n",
    "xarray=np.arange(x1[0],x1[len(x1)-1]+0.0005,0.0000001)\n",
    "y_func = Wigner(xarray,*pars)\n",
    "# bound_par = ([0,0,ea-0.01],[1,200,ea+0.01])\n",
    "pl0, covl0 = curve_fit(Wigner, x1, y1,[*pars],sigma = err_y, absolute_sigma=True)\n",
    "#pl2, covl2 = curve_fit(Wigner, x1, y1,[a,b,ea],bounds=bound_par)\n",
    "plt.errorbar(x1, y1, yerr=err_y, fmt='.k',color='blue', capthick=0.5,capsize=5,elinewidth=0.5)\n",
    "plt.plot(xarray,Wigner(xarray, *pl0),label='fit',color=setColor1)\n",
    "plt.plot(xarray,y_func, linestyle = '--',alpha = 0.6)\n",
    "plt.scatter(x1,y1,s=7)\n",
    "#plt.plot(xarray,Wigner(xarray, *pl2),label='fit',color=setColor2)\n",
    "plt.xlabel(\"Photon energy (eV)\")\n",
    "plt.ylabel(\"cross section(normalized)\") \n",
    "print (pl0[2],np.sqrt(np.diag(covl0))[2])\n",
    "#print(setColor1,'Wigner fitted curve: ' ,pl0, \"with error: \",np.sqrt(np.diag(covl0)))\n",
    "middle_trans = 1.454620680 #energy difference between 6p and Rydberg state\n",
    "Doppler = 600*1e-6 #eV\n",
    "electron_affinity = abs(pl0[2]-middle_trans + Doppler)\n",
    "print (round(electron_affinity,7), 'eV')\n",
    "#plt.text(x1[0], y1[-1], 'eA: ' + str(round(electron_affinity,7)) +'(13) eV', bbox=dict(facecolor='red', alpha=0.5))\n",
    "plt.savefig(exp_path + file_name + '.png', dpi = 300, bbox_inches='tight')\n",
    "plt.show()"
   ]
  },
  {
   "cell_type": "code",
   "execution_count": 64,
   "id": "vocational-recipe",
   "metadata": {},
   "outputs": [
    {
     "name": "stdout",
     "output_type": "stream",
     "text": [
      "20\n"
     ]
    }
   ],
   "source": [
    "print(len(x1))"
   ]
  },
  {
   "cell_type": "code",
   "execution_count": 77,
   "id": "patient-kazakhstan",
   "metadata": {},
   "outputs": [
    {
     "name": "stdout",
     "output_type": "stream",
     "text": [
      "[0.05240324 0.06450151 0.2679704  0.2142727  0.18069788 0.08647581\n",
      " 0.07330762 0.10061765 0.10420873 0.14971491 0.26109462 0.26140971\n",
      " 0.27513772 0.24162809 0.0654339  0.06320161 0.06104892 0.07813832\n",
      " 0.08932258 0.20417186]\n"
     ]
    }
   ],
   "source": [
    "print(err_y)"
   ]
  },
  {
   "cell_type": "code",
   "execution_count": null,
   "id": "unusual-justice",
   "metadata": {},
   "outputs": [],
   "source": []
  }
 ],
 "metadata": {
  "kernelspec": {
   "display_name": "Python 3",
   "language": "python",
   "name": "python3"
  },
  "language_info": {
   "codemirror_mode": {
    "name": "ipython",
    "version": 3
   },
   "file_extension": ".py",
   "mimetype": "text/x-python",
   "name": "python",
   "nbconvert_exporter": "python",
   "pygments_lexer": "ipython3",
   "version": "3.9.1"
  }
 },
 "nbformat": 4,
 "nbformat_minor": 5
}
